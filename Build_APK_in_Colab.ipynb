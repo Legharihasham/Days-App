{
  "cells": [
    {
      "cell_type": "markdown",
      "metadata": {},
      "source": [
        "# DaysSinceWeMet Android APK Builder\n",
        "\n",
        "This notebook builds the Android APK for the DaysSinceWeMet app."
      ]
    },
    {
      "cell_type": "code",
      "execution_count": null,
      "metadata": {},
      "outputs": [],
      "source": [
        "# Install dependencies\n",
        "!apt-get update\n",
        "!apt-get install -y openjdk-11-jdk\n",
        "!pip install buildozer cython==0.29.33 kivy"
      ]
    },
    {
      "cell_type": "code",
      "execution_count": null,
      "metadata": {},
      "outputs": [],
      "source": [
        "# Create the app files\n",
        "import os\n",
        "os.makedirs('AndroidApp', exist_ok=True)\n",
        "os.chdir('AndroidApp')"
      ]
    },
    {
      "cell_type": "code",
      "execution_count": null,
      "metadata": {},
      "outputs": [],
      "source": [
        "# Create main.py\n",
        "main_py_content = '''# Your main.py content here'''\n",
        "with open('main.py', 'w') as f:\n",
        "    f.write(main_py_content)"
      ]
    },
    {
      "cell_type": "code",
      "execution_count": null,
      "metadata": {},
      "outputs": [],
      "source": [
        "# Create buildozer.spec\n",
        "buildozer_spec = '''# Your buildozer.spec content here'''\n",
        "with open('buildozer.spec', 'w') as f:\n",
        "    f.write(buildozer_spec)"
      ]
    },
    {
      "cell_type": "code",
      "execution_count": null,
      "metadata": {},
      "outputs": [],
      "source": [
        "# Build APK\n",
        "!buildozer android debug"
      ]
    },
    {
      "cell_type": "code",
      "execution_count": null,
      "metadata": {},
      "outputs": [],
      "source": [
        "# Download APK\n",
        "from google.colab import files\n",
        "import glob\n",
        "\n",
        "apk_files = glob.glob('bin/*.apk')\n",
        "if apk_files:\n",
        "    for apk in apk_files:\n",
        "        files.download(apk)\n",
        "else:\n",
        "    print('No APK files found')"
      ]
    }
  ],
  "metadata": {
    "kernelspec": {
      "display_name": "Python 3",
      "language": "python",
      "name": "python3"
    },
    "language_info": {
      "name": "python",
      "version": "3.8.10"
    }
  },
  "nbformat": 4,
  "nbformat_minor": 0
}